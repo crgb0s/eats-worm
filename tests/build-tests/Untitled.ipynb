{
 "cells": [
  {
   "cell_type": "markdown",
   "metadata": {},
   "source": [
    "# Thread Merging/Curating for GCaMP Extractor\n",
    "\n",
    "Basically the goal is to reduce the amount of curation time necessary for end-users of GCaMP extractor so they don't have to go through and click through every blob thread"
   ]
  },
  {
   "cell_type": "code",
   "execution_count": 1,
   "metadata": {},
   "outputs": [],
   "source": [
    "## Basically loading the extractor\n",
    "\n",
    "from gcamp_extractor import *\n",
    "import numpy as np\n",
    "import matplotlib.pyplot as plt\n",
    "from scipy.spatial.distance import pdist, squareform\n",
    "from fastcluster import linkage\n",
    "\n",
    "# load an extractor\n",
    "arguments = {\n",
    "    \"root\": \"/Users/stevenban/Desktop/20191104_KP_FC083_worm6_gcamp6s_1/\", \n",
    "    \"numz\": 10, \n",
    "    \"frames\": [0, 1, 2, 3, 4, 5], \n",
    "    \"offset\": 23, \n",
    "    #\"t\": 1000, \n",
    "    \"gaussian\": [25, 2, 3, 1], \n",
    "    \"quantile\": 0.98, \n",
    "    \"reg_peak_dist\": 4, \n",
    "    \"anisotropy\": [10, 1, 1], \n",
    "    \"blob_merge_dist_thresh\": 5, \n",
    "    \"register_frames\": False, \n",
    "    \"predict\": False, \n",
    "    \"regen_mft\": False, \n",
    "    \"3d\": False, \n",
    "    \"regen\": False\n",
    "}\n"
   ]
  },
  {
   "cell_type": "code",
   "execution_count": 2,
   "metadata": {},
   "outputs": [
    {
     "name": "stdout",
     "output_type": "stream",
     "text": [
      "Frames Processed: 9997/9997\n",
      "Infilling...\n",
      "Blob Threads Checked: 240/240\n",
      "\n",
      "Saving blob timeseries as numpy object...\n",
      "Frames Processed (Quantification): 9997/9997\n",
      "Saved timeseries as text file...\n"
     ]
    }
   ],
   "source": [
    "e = Extractor(**arguments)\n",
    "e.calc_blob_threads()\n",
    "e.quantify()"
   ]
  },
  {
   "cell_type": "code",
   "execution_count": 4,
   "metadata": {},
   "outputs": [
    {
     "name": "stdout",
     "output_type": "stream",
     "text": [
      "Saving blob threads as pickle object...\n"
     ]
    }
   ],
   "source": [
    "e.spool.make_allthreads()\n",
    "e.save_threads()\n",
    "os.rename(arguments['root']+'extractor-objects',arguments['root']+'extractor-objects-dev')"
   ]
  },
  {
   "cell_type": "code",
   "execution_count": 5,
   "metadata": {},
   "outputs": [],
   "source": [
    "del e\n",
    "import gc\n",
    "gc.collect()\n",
    "\n",
    "e = load_extractor(arguments['root']+'extractor-objects-dev')"
   ]
  },
  {
   "cell_type": "code",
   "execution_count": 2,
   "metadata": {},
   "outputs": [
    {
     "name": "stdout",
     "output_type": "stream",
     "text": [
      "Frames Processed: 3816/3816\n",
      "Infilling...\n",
      "Blob Threads Checked: 3208/3208\n",
      "\n",
      "Saving blob timeseries as numpy object...\n",
      "Saving blob threads as pickle object...\n",
      "Frames Processed (Quantification): 3816/3816\n",
      "Saved timeseries as text file...\n"
     ]
    }
   ],
   "source": [
    "import gc\n",
    "arguments = {\"root\": \"/Users/stevenban/Desktop/20191203_KP_FC083_worm17_gcamp6f_1/\",\n",
    " \"numz\": 13,\n",
    " \"frames\": [0,1,2,3,4,5,6,7,8],\n",
    " \"offset\": 13,\n",
    " \"gaussian\": [51,8,3,1],\n",
    " \"quantile\": 0.985,\n",
    " \"reg_peak_dist\": 7,\n",
    " \"anisotropy\": [15,1,1],\n",
    " \"blob_merge_dist_thresh\": 7,\n",
    " \"register_frames\": True,\n",
    " \"predict\": False,\n",
    " \"regen_mft\": False,\n",
    " \"3d\": False,\n",
    " \"regen\": False\n",
    "}\n",
    "e = Extractor(**arguments)\n",
    "e.calc_blob_threads()\n",
    "e.spool.make_allthreads()\n",
    "e.save_threads()\n",
    "e.quantify()\n",
    "os.rename(arguments['root']+'extractor-objects',arguments['root']+'extractor-objects-dev')"
   ]
  },
  {
   "cell_type": "code",
   "execution_count": 17,
   "metadata": {},
   "outputs": [
    {
     "data": {
      "image/png": "[encoded data removed]",
      "text/plain": [
       "<Figure size 432x288 with 1 Axes>"
      ]
     },
     "metadata": {
      "needs_background": "light"
     },
     "output_type": "display_data"
    }
   ],
   "source": [
    "# Curating based on the difference between thread movement and the calculated global movement vector\n",
    "\n",
    "dS = np.zeros((len(e.spool.threads), e.t-1))\n",
    "\n",
    "for i in range(len(e.spool.threads)):\n",
    "\tdS[i] = np.linalg.norm(np.diff(e.spool.threads[i].positions, n=1, axis =0)-e.spool.dvec[1:], axis = 1)\n",
    "\n",
    "plt.imshow(dS, aspect = 'auto')\n",
    "#plt.imshow(e.spool.dvec.T, aspect='auto')\n",
    "plt.show()"
   ]
  },
  {
   "cell_type": "code",
   "execution_count": 13,
   "metadata": {},
   "outputs": [
    {
     "data": {
      "text/plain": [
       "240"
      ]
     },
     "execution_count": 13,
     "metadata": {},
     "output_type": "execute_result"
    }
   ],
   "source": [
    "len(e.spool.threads)"
   ]
  },
  {
   "cell_type": "code",
   "execution_count": 14,
   "metadata": {},
   "outputs": [
    {
     "data": {
      "text/plain": [
       "(9996, 3)"
      ]
     },
     "execution_count": 14,
     "metadata": {},
     "output_type": "execute_result"
    }
   ],
   "source": [
    "np.diff(e.spool.threads[i].positions, n=1, axis =0).shape"
   ]
  },
  {
   "cell_type": "code",
   "execution_count": 15,
   "metadata": {},
   "outputs": [
    {
     "data": {
      "text/plain": [
       "(9996, 3)"
      ]
     },
     "execution_count": 15,
     "metadata": {},
     "output_type": "execute_result"
    }
   ],
   "source": [
    "e.spool.dvec[1:].shape"
   ]
  },
  {
   "cell_type": "code",
   "execution_count": 20,
   "metadata": {},
   "outputs": [],
   "source": [
    "import json\n",
    "with open(arguments['root']+'extractor-objects1/curate.json') as f:\n",
    "    a = json.load(f)"
   ]
  },
  {
   "cell_type": "code",
   "execution_count": null,
   "metadata": {},
   "outputs": [],
   "source": [
    "dir(e.spool)"
   ]
  },
  {
   "cell_type": "code",
   "execution_count": null,
   "metadata": {},
   "outputs": [],
   "source": [
    "dir(e)"
   ]
  },
  {
   "cell_type": "code",
   "execution_count": null,
   "metadata": {},
   "outputs": [],
   "source": []
  }
 ],
 "metadata": {
  "kernelspec": {
   "display_name": "Python 3",
   "language": "python",
   "name": "python3"
  },
  "language_info": {
   "codemirror_mode": {
    "name": "ipython",
    "version": 3
   },
   "file_extension": ".py",
   "mimetype": "text/x-python",
   "name": "python",
   "nbconvert_exporter": "python",
   "pygments_lexer": "ipython3",
   "version": "3.6.9"
  }
 },
 "nbformat": 4,
 "nbformat_minor": 2
}
