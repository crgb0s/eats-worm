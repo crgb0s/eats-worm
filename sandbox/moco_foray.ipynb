{
 "cells": [
  {
   "cell_type": "code",
   "execution_count": null,
   "id": "f92fc8b9",
   "metadata": {},
   "outputs": [],
   "source": [
    "#\n",
    "#   Testing MOCO methods\n",
    "#"
   ]
  },
  {
   "cell_type": "code",
   "execution_count": null,
   "id": "552f5ee6",
   "metadata": {},
   "outputs": [],
   "source": [
    "# imports (using the 'moco_repair' branch of GCE)\n",
    "import os\n",
    "import json\n",
    "import hashlib\n",
    "import pickle\n",
    "\n",
    "import numpy as np\n",
    "import pandas as pd\n",
    "import matplotlib.pyplot as plt\n",
    "\n",
    "from gcamp_extractor import MultiFileTiff\n",
    "from gcamp_extractor.moco import compute_moco_offsets\n",
    "from gcamp_extractor.moco import view_moco_offsets"
   ]
  },
  {
   "cell_type": "code",
   "execution_count": null,
   "id": "b8978b67",
   "metadata": {},
   "outputs": [],
   "source": [
    "# load dataset\n",
    "\n",
    "## three worms that drift\n",
    "## can be found on YAKALO NAS under /yakalo/share/jackson/\n",
    "ykroot = '/media/gbubnis/Extreme SSD/yakalo/jackson'\n",
    "#root = ykroot+'/2021-07-30/worm04_act1'\n",
    "#root = ykroot+'/2021-07-31/worm01_act1'  # still.. then drift + joystick correction\n",
    "root = ykroot+'/2021-07-30/worm06_act1'  # head casting\n",
    "\n",
    "params_mft = {\n",
    "    'root':os.path.join(root, 'GCAMP'),\n",
    "    'numz':12,\n",
    "    'numc':1,\n",
    "}\n",
    "\n",
    "infojson = os.path.join(root, 'info.json')\n",
    "with open(infojson) as f:\n",
    "    infodict = json.load(f)\n",
    "\n",
    "dwa = '%s_worm%02i_act%s' % (infodict['date'], int(infodict['worm']), infodict['act'])\n",
    "print(dwa)\n",
    "\n",
    "output_dir = os.path.join('mocotest_'+ dwa)\n",
    "os.makedirs(output_dir, exist_ok=True)\n",
    "mft = MultiFileTiff(output_dir=output_dir, **params_mft)"
   ]
  },
  {
   "cell_type": "code",
   "execution_count": null,
   "id": "8cd05ba6",
   "metadata": {},
   "outputs": [],
   "source": [
    "# make param dicts\n",
    "p1 = dict(mode_2D='mid', median=0, gaussian=0, method='ird', ird_filter_pcorr=0, upsample_factor=0, t_max=500)\n",
    "p2 = dict(mode_2D='mid', median=5, gaussian=0, method='ird', ird_filter_pcorr=1, upsample_factor=0, t_max=500)\n",
    "p3 = dict(mode_2D='mid', median=5, gaussian=2, method='ird', ird_filter_pcorr=2, upsample_factor=0, t_max=500)\n",
    "p4 = dict(mode_2D='mid', median=5, gaussian=4, method='ird', ird_filter_pcorr=0, upsample_factor=0, t_max=500)\n",
    "p5 = dict(mode_2D='mid', median=0, gaussian=0, method='skimage', ird_filter_pcorr=0, upsample_factor=10, t_max=500)\n",
    "p6 = dict(mode_2D='mid', median=3, gaussian=0, method='skimage', ird_filter_pcorr=0, upsample_factor=10, t_max=500)\n",
    "p7 = dict(mode_2D='mid', median=5, gaussian=0, method='skimage', ird_filter_pcorr=0, upsample_factor=10, t_max=500)\n",
    "p8 = dict(mode_2D='mid', median=5, gaussian=4, method='skimage', ird_filter_pcorr=0, upsample_factor=10, t_max=500)\n",
    "p9 = dict(mode_2D='mid', median=5, gaussian=2, method='skimage', ird_filter_pcorr=0, upsample_factor=10, t_max=500)\n",
    "\n",
    "#NOTE: p7 is GT for /2021-07-30/worm04_act\n",
    "\n",
    "todo = [p1, p2, p3, p4, p5, p6, p7, p8, p9]\n",
    "\n",
    "df_todo = pd.DataFrame(todo)\n",
    "df_todo.head()"
   ]
  },
  {
   "cell_type": "code",
   "execution_count": null,
   "id": "a2e631f4",
   "metadata": {
    "scrolled": true
   },
   "outputs": [],
   "source": [
    "# compute offsets and dump to file (or load if file(s) already exists)\n",
    "\n",
    "def get_offsets(mft, params):\n",
    "    filter_keys = ['median', 'gaussian']\n",
    "    other_keys = ['method', 'ird_filter_pcorr', 'upsample_factor', 't_max', 'mode_2D']\n",
    "    flt = {k:params[k] for k in filter_keys}\n",
    "    oth = {k:params[k] for k in other_keys}\n",
    "    offsets = compute_moco_offsets(\n",
    "        mft=mft,\n",
    "        suppress_output=True,\n",
    "        filter_params=flt,\n",
    "        **oth\n",
    "        )\n",
    "    return offsets\n",
    "\n",
    "all_offsets = []\n",
    "for p in todo:\n",
    "    xxx = json.dumps(p, sort_keys=True)\n",
    "    xxx+=root\n",
    "    hash8 = hashlib.sha224(str(xxx).encode('utf-8')).hexdigest()[-8:]\n",
    "    \n",
    "    ## already run?\n",
    "    datafile = os.path.join(output_dir, 'data-%s.pk' % hash8)\n",
    "    if os.path.isfile(datafile):\n",
    "        print('datafile(load):', datafile)\n",
    "        with open(datafile,'rb') as f:\n",
    "            [p, offsets] = pickle.load(f)\n",
    "    else:\n",
    "        print('datafile(calc):', datafile)\n",
    "        offsets = get_offsets(mft, p)\n",
    "        file_pi = open(datafile, 'wb')\n",
    "        pickle.dump([p, offsets], file_pi)\n",
    "        file_pi.close()\n",
    "\n",
    "    all_offsets.append(offsets)"
   ]
  },
  {
   "cell_type": "code",
   "execution_count": null,
   "id": "80f7b8ec",
   "metadata": {},
   "outputs": [],
   "source": []
  },
  {
   "cell_type": "code",
   "execution_count": null,
   "id": "a4722011",
   "metadata": {
    "scrolled": false
   },
   "outputs": [],
   "source": [
    "# plot offset timeseries\n",
    "colors = plt.rcParams['axes.prop_cycle'].by_key()['color']\n",
    "\n",
    "fig, axs = plt.subplots(nrows=2, ncols=1, figsize=(16, 10), sharey=True, sharex=True)\n",
    "axs[0].axhline(y=0, color='grey')\n",
    "axs[1].axhline(y=0, color='grey')\n",
    "\n",
    "for i, (params, offsets) in enumerate(zip(todo, all_offsets)):\n",
    "    xx = range(len(offsets))\n",
    "    axs[0].plot(xx, np.cumsum(offsets[:,1]), '-o', color=colors[i], ms=4,  label='Y pcorr=%i' % params['ird_filter_pcorr'])\n",
    "    axs[1].plot(xx, np.cumsum(offsets[:,2]), '--x', color=colors[i], ms=4, label='X pcorr=%i' % params['ird_filter_pcorr'])\n",
    "\n",
    "axs[0].legend(fontsize='x-large')\n",
    "axs[0].grid()\n",
    "axs[1].legend(fontsize='x-large')\n",
    "axs[1].grid()\n",
    "axs[0].set_ylabel('Y offset (cumulative)', fontsize='x-large')\n",
    "axs[1].set_ylabel('X offset (cumulative)', fontsize='x-large')\n",
    "axs[1].set_xlabel('imaged volume, T', fontsize='x-large')\n",
    "fig.suptitle(dwa, fontsize='xx-large')\n",
    "fig.tight_layout()"
   ]
  },
  {
   "cell_type": "code",
   "execution_count": null,
   "id": "45ba4fed",
   "metadata": {},
   "outputs": [],
   "source": [
    "# view one case in napari (to decide what is closest to ground truth)\n",
    "view_moco_offsets(mft, all_offsets[-1])"
   ]
  },
  {
   "cell_type": "code",
   "execution_count": null,
   "id": "7573e84d",
   "metadata": {},
   "outputs": [],
   "source": []
  },
  {
   "cell_type": "code",
   "execution_count": null,
   "id": "26db035d",
   "metadata": {},
   "outputs": [],
   "source": []
  }
 ],
 "metadata": {
  "kernelspec": {
   "display_name": "Python 3",
   "language": "python",
   "name": "python3"
  },
  "language_info": {
   "codemirror_mode": {
    "name": "ipython",
    "version": 3
   },
   "file_extension": ".py",
   "mimetype": "text/x-python",
   "name": "python",
   "nbconvert_exporter": "python",
   "pygments_lexer": "ipython3",
   "version": "3.7.10"
  }
 },
 "nbformat": 4,
 "nbformat_minor": 5
}
